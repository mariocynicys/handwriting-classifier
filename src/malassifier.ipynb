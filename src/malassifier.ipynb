{
 "cells": [
  {
   "cell_type": "markdown",
   "metadata": {},
   "source": [
    "# Data Preperation"
   ]
  },
  {
   "cell_type": "code",
   "execution_count": null,
   "metadata": {
    "_cell_guid": "5bdeba32-1d0d-4f73-9f5c-90c0bb1b9fed",
    "_uuid": "8e74d7e0-96eb-4241-b3f2-fae4d6bb6dbb",
    "execution": {
     "iopub.execute_input": "2022-05-22T18:44:00.461395Z",
     "iopub.status.busy": "2022-05-22T18:44:00.460397Z",
     "iopub.status.idle": "2022-05-22T18:44:14.577688Z",
     "shell.execute_reply": "2022-05-22T18:44:14.575710Z",
     "shell.execute_reply.started": "2022-05-22T18:44:00.461241Z"
    },
    "jupyter": {
     "outputs_hidden": false
    }
   },
   "outputs": [],
   "source": [
    "%%time\n",
    "# Update the dataset incase it has changed.\n",
    "! cd ../input; ./update-dataset.sh >/dev/null\n",
    "\n",
    "# Clean the input directory structure.\n",
    "! rm -rf cmp23 preprocessed features meta\n",
    "! mkdir -p {cmp23,preprocessed}/{fe,}males features meta\n",
    "\n",
    "# Copy the images.\n",
    "! cp ../input/cmp23-handwritten-males-vs-females/Males/Males/* cmp23/males\n",
    "! cp ../input/cmp23-handwritten-males-vs-females/Females/Females/* cmp23/females\n",
    "\n",
    "# Remove some image which we know will break our preprocessing pipeline.\n",
    "! rm -f cmp23/males/{M61,M69,M73,M96}.jpg cmp23/females/{F38,F64}.jpg\n",
    "\n",
    "# Rename all the dataset files to simple names.\n",
    "! function rename { for path in \"$@\"; do cd $path; c=1; for file in $(/bin/ls); do /bin/mv $file $(printf \"%03d\" $c).jpg; let c=c+1; done; cd - >/dev/null; done; }; rename cmp23/{fe,}males\n",
    "\n",
    "# Check the directory tree.\n",
    "! tree --filelimit 100"
   ]
  },
  {
   "cell_type": "code",
   "execution_count": null,
   "metadata": {
    "execution": {
     "iopub.execute_input": "2022-05-22T18:44:14.582919Z",
     "iopub.status.busy": "2022-05-22T18:44:14.581160Z",
     "iopub.status.idle": "2022-05-22T18:44:16.998760Z",
     "shell.execute_reply": "2022-05-22T18:44:16.997712Z",
     "shell.execute_reply.started": "2022-05-22T18:44:14.582814Z"
    }
   },
   "outputs": [],
   "source": [
    "# Imports and Constants.\n",
    "from utils import *\n",
    "from helpers import *\n",
    "from processing import *\n",
    "from features import *\n",
    "from model import *\n",
    "\n",
    "\n",
    "ALL_IMAGES = get_all_images()\n",
    "LABELS = load_labels()\n",
    "\n",
    "TST_IMAGES = [\n",
    "    cmp('female', 9),\n",
    "    cmp('male', 67),\n",
    "    cmp('male', 89),\n",
    "    cmp('female', 3),\n",
    "    cmp('male', 12),\n",
    "    cmp('female', 4),\n",
    "] # Some images' paths used oberservation.\n",
    "\n",
    "def svm_test(xs, ys, count=100, test_size=0.2, **kwargs):\n",
    "    return g_test(xs, ys, svm(**kwargs), count, test_size)"
   ]
  },
  {
   "cell_type": "code",
   "execution_count": null,
   "metadata": {
    "execution": {
     "iopub.execute_input": "2022-05-22T18:44:17.054182Z",
     "iopub.status.busy": "2022-05-22T18:44:17.053681Z",
     "iopub.status.idle": "2022-05-22T18:44:22.660408Z",
     "shell.execute_reply": "2022-05-22T18:44:22.658919Z",
     "shell.execute_reply.started": "2022-05-22T18:44:17.054136Z"
    }
   },
   "outputs": [],
   "source": [
    "# Preview the test images before preprocessing them.\n",
    "preview(TST_IMAGES)"
   ]
  },
  {
   "cell_type": "markdown",
   "metadata": {},
   "source": [
    "# Preprocessing"
   ]
  },
  {
   "cell_type": "code",
   "execution_count": null,
   "metadata": {
    "execution": {
     "iopub.execute_input": "2022-05-22T18:44:22.663022Z",
     "iopub.status.busy": "2022-05-22T18:44:22.662210Z",
     "iopub.status.idle": "2022-05-22T18:48:53.536093Z",
     "shell.execute_reply": "2022-05-22T18:48:53.534812Z",
     "shell.execute_reply.started": "2022-05-22T18:44:22.662948Z"
    }
   },
   "outputs": [],
   "source": [
    "%%time\n",
    "# Preprocess the images and write them to the disk.\n",
    "for image_path in ALL_IMAGES:\n",
    "    imwrite(pre(image_path), preprocess(imread(image_path,\n",
    "                                               apply_tresh=False)))"
   ]
  },
  {
   "cell_type": "code",
   "execution_count": null,
   "metadata": {
    "execution": {
     "iopub.execute_input": "2022-05-22T18:48:53.540067Z",
     "iopub.status.busy": "2022-05-22T18:48:53.539014Z",
     "iopub.status.idle": "2022-05-22T18:48:56.207708Z",
     "shell.execute_reply": "2022-05-22T18:48:56.206154Z",
     "shell.execute_reply.started": "2022-05-22T18:48:53.540001Z"
    }
   },
   "outputs": [],
   "source": [
    "# Preview the test images after preprocessing.\n",
    "preview(map(pre, TST_IMAGES))"
   ]
  },
  {
   "cell_type": "markdown",
   "metadata": {},
   "source": [
    "# Feature Extraction"
   ]
  },
  {
   "cell_type": "markdown",
   "metadata": {},
   "source": [
    "## GLCM"
   ]
  },
  {
   "cell_type": "code",
   "execution_count": null,
   "metadata": {
    "execution": {
     "iopub.execute_input": "2022-05-22T18:48:56.229900Z",
     "iopub.status.busy": "2022-05-22T18:48:56.229343Z",
     "iopub.status.idle": "2022-05-22T18:49:17.127200Z",
     "shell.execute_reply": "2022-05-22T18:49:17.126363Z",
     "shell.execute_reply.started": "2022-05-22T18:48:56.229846Z"
    }
   },
   "outputs": [],
   "source": [
    "%%time\n",
    "# GLCM features.\n",
    "cmp_features = []\n",
    "\n",
    "for image_path in map(pre, ALL_IMAGES):\n",
    "    cmp_features.append(glcm(imread_np(image_path)))\n",
    "\n",
    "save_feature('glcm', cmp_features)"
   ]
  },
  {
   "cell_type": "code",
   "execution_count": null,
   "metadata": {
    "execution": {
     "iopub.execute_input": "2022-05-22T18:49:17.128761Z",
     "iopub.status.busy": "2022-05-22T18:49:17.128480Z",
     "iopub.status.idle": "2022-05-22T18:49:19.630878Z",
     "shell.execute_reply": "2022-05-22T18:49:19.629966Z",
     "shell.execute_reply.started": "2022-05-22T18:49:17.128728Z"
    }
   },
   "outputs": [],
   "source": [
    "features = load_feature('glcm')\n",
    "svm_test(features, LABELS)"
   ]
  },
  {
   "cell_type": "markdown",
   "metadata": {},
   "source": [
    "## Local Binary Pattern"
   ]
  },
  {
   "cell_type": "code",
   "execution_count": null,
   "metadata": {
    "execution": {
     "iopub.execute_input": "2022-05-22T19:01:10.841488Z",
     "iopub.status.busy": "2022-05-22T19:01:10.841193Z"
    }
   },
   "outputs": [],
   "source": [
    "%%time\n",
    "# LBP features.\n",
    "cmp_features = []\n",
    "\n",
    "for image_path in map(pre, ALL_IMAGES):\n",
    "    cmp_features.append(lbp(imread_np(image_path)))\n",
    "\n",
    "save_feature('lbp', cmp_features)"
   ]
  },
  {
   "cell_type": "code",
   "execution_count": null,
   "metadata": {},
   "outputs": [],
   "source": [
    "features = load_feature('lbp')\n",
    "svm_test(features, LABELS)"
   ]
  },
  {
   "cell_type": "markdown",
   "metadata": {},
   "source": [
    "## Histogram of Oriented Gradients"
   ]
  },
  {
   "cell_type": "code",
   "execution_count": null,
   "metadata": {
    "execution": {
     "iopub.execute_input": "2022-05-22T18:56:37.810493Z",
     "iopub.status.busy": "2022-05-22T18:56:37.810246Z",
     "iopub.status.idle": "2022-05-22T19:00:55.863824Z",
     "shell.execute_reply": "2022-05-22T19:00:55.863015Z",
     "shell.execute_reply.started": "2022-05-22T18:56:37.810464Z"
    }
   },
   "outputs": [],
   "source": [
    "%%time\n",
    "# HoG features.\n",
    "cmp_features = []\n",
    "\n",
    "# Get the best resize ratio.\n",
    "resize_w, resize_h = get_avg_image_shape()\n",
    "# Upscale the resize parameters so not to lose any resolution.\n",
    "resize_factor = int(resize_w * 1.15), int(resize_h * 1.15)\n",
    "\n",
    "for image_path in map(pre, ALL_IMAGES):\n",
    "    cmp_features.append(hog(imread_np(image_path), resize_factor))\n",
    "\n",
    "# Run PCA first to shrink the number of features.\n",
    "cmp_features = pca(cmp_features, 'hog')\n",
    "save_feature('hog', cmp_features)"
   ]
  },
  {
   "cell_type": "code",
   "execution_count": null,
   "metadata": {
    "execution": {
     "iopub.execute_input": "2022-05-22T19:00:55.865450Z",
     "iopub.status.busy": "2022-05-22T19:00:55.865071Z",
     "iopub.status.idle": "2022-05-22T19:01:10.838057Z",
     "shell.execute_reply": "2022-05-22T19:01:10.836307Z",
     "shell.execute_reply.started": "2022-05-22T19:00:55.865420Z"
    }
   },
   "outputs": [],
   "source": [
    "features = load_feature('hog')\n",
    "svm_test(features, LABELS)"
   ]
  },
  {
   "cell_type": "markdown",
   "metadata": {},
   "source": [
    "## Dist. of Chain Codes & Dist. of Chain Code Pairs"
   ]
  },
  {
   "cell_type": "code",
   "execution_count": null,
   "metadata": {},
   "outputs": [],
   "source": [
    "%%time\n",
    "# Chain Code features.\n",
    "cmp_features = []\n",
    "\n",
    "for image_path in map(pre, ALL_IMAGES):\n",
    "    cmp_features.append(chain_codes_and_pairs(imread(image_path)))\n",
    "\n",
    "save_feature('chain_codes_and_pairs', cmp_features)"
   ]
  },
  {
   "cell_type": "code",
   "execution_count": null,
   "metadata": {},
   "outputs": [],
   "source": [
    "features = load_feature('chain_codes_and_pairs')\n",
    "svm_test(features, LABELS)"
   ]
  },
  {
   "cell_type": "markdown",
   "metadata": {},
   "source": [
    "## Dist. of Segement Slopes & Dist. of Curvatures"
   ]
  },
  {
   "cell_type": "code",
   "execution_count": null,
   "metadata": {},
   "outputs": [],
   "source": [
    "%%time\n",
    "# Distribution of segment slopes and distribution of curvature features.\n",
    "cmp_features = []\n",
    "\n",
    "for image_path in map(pre, ALL_IMAGES):\n",
    "    cmp_features.append(slopes_and_curves(imread(image_path)))\n",
    "\n",
    "save_feature('slopes_and_curves', cmp_features)"
   ]
  },
  {
   "cell_type": "code",
   "execution_count": null,
   "metadata": {},
   "outputs": [],
   "source": [
    "features = load_feature('slopes_and_curves')\n",
    "svm_test(features, LABELS)"
   ]
  },
  {
   "cell_type": "markdown",
   "metadata": {},
   "source": [
    "## Hinge"
   ]
  },
  {
   "cell_type": "code",
   "execution_count": null,
   "metadata": {},
   "outputs": [],
   "source": [
    "%%time\n",
    "# Hinge features.\n",
    "cmp_features = []\n",
    "\n",
    "for image_path in map(pre, ALL_IMAGES):\n",
    "    cmp_features.append(hinge(imread(image_path)))\n",
    "\n",
    "save_feature('hinge', cmp_features)"
   ]
  },
  {
   "cell_type": "code",
   "execution_count": null,
   "metadata": {},
   "outputs": [],
   "source": [
    "features = load_feature('hinge')\n",
    "svm_test(features, LABELS)"
   ]
  },
  {
   "cell_type": "markdown",
   "metadata": {},
   "source": [
    "## COLD"
   ]
  },
  {
   "cell_type": "code",
   "execution_count": null,
   "metadata": {},
   "outputs": [],
   "source": [
    "%%time\n",
    "# COLD features.\n",
    "cmp_features = []\n",
    "\n",
    "for image_path in map(pre, ALL_IMAGES):\n",
    "    cmp_features.append(cold(imread(image_path)))\n",
    "\n",
    "save_feature('cold', cmp_features)"
   ]
  },
  {
   "cell_type": "code",
   "execution_count": null,
   "metadata": {},
   "outputs": [],
   "source": [
    "features = load_feature('cold')\n",
    "svm_test(features, LABELS)"
   ]
  },
  {
   "cell_type": "markdown",
   "metadata": {},
   "source": [
    "# Learning"
   ]
  },
  {
   "cell_type": "code",
   "execution_count": null,
   "metadata": {},
   "outputs": [],
   "source": [
    "from sklearn.model_selection import train_test_split\n",
    "import random\n",
    "\n",
    "ALL_FEATURES = dict((f, load_feature(f)) for f in FEATURES)\n",
    "\n",
    "TRAIN_FEATURES = {}\n",
    "TEST_FEATURES = {}\n",
    "rnd = int(random.random() * 93024949)\n",
    "\n",
    "for feature in ALL_FEATURES.keys():\n",
    "    TRAIN_FEATURES[feature], TEST_FEATURES[feature], TRAIN_LABELS, TEST_LABELS = train_test_split(load_feature(feature), LABELS, random_state=rnd)\n",
    "\n",
    "clfs = {\n",
    "    'svm_1': {},\n",
    "    #'svm_2': {'C': 50000},\n",
    "    #'ann_1': {},\n",
    "    #'ann_2': {'hidden_layer_sizes': (20, 15), 'max_iter': 1000},\n",
    "    'knn_1': {},\n",
    "    'rfc_1': {},\n",
    "    'dtc_1': {},\n",
    "}"
   ]
  },
  {
   "cell_type": "code",
   "execution_count": null,
   "metadata": {},
   "outputs": [],
   "source": [
    "gc = GenderClassifier(clfs)\n",
    "gc.fit(TRAIN_FEATURES, TRAIN_LABELS, booster=4)"
   ]
  },
  {
   "cell_type": "code",
   "execution_count": null,
   "metadata": {},
   "outputs": [],
   "source": [
    "feature_inverse = []\n",
    "for i in range(len(TEST_LABELS)):\n",
    "    feature_inverse.append(dict(\n",
    "        (feat, feat_vals[i]) for feat, feat_vals in TEST_FEATURES.items()\n",
    "    ))\n",
    "\n",
    "gc.score(feature_inverse, TEST_LABELS, True)\n",
    "gc.score(feature_inverse, TEST_LABELS)"
   ]
  },
  {
   "cell_type": "code",
   "execution_count": null,
   "metadata": {},
   "outputs": [],
   "source": [
    "gc = GenderClassifier(clfs)\n",
    "gc.fit(ALL_FEATURES, LABELS, booster=3)\n",
    "gc.pickle()"
   ]
  }
 ],
 "metadata": {
  "kernelspec": {
   "display_name": "Python 3",
   "language": "python",
   "name": "python3"
  },
  "language_info": {
   "codemirror_mode": {
    "name": "ipython",
    "version": 3
   },
   "file_extension": ".py",
   "mimetype": "text/x-python",
   "name": "python",
   "nbconvert_exporter": "python",
   "pygments_lexer": "ipython3",
   "version": "3.7.4"
  }
 },
 "nbformat": 4,
 "nbformat_minor": 4
}
